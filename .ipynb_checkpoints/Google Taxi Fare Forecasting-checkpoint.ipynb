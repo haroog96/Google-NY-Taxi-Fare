{
 "cells": [
  {
   "cell_type": "code",
   "execution_count": 1,
   "id": "1b01c57c",
   "metadata": {
    "scrolled": false
   },
   "outputs": [
    {
     "name": "stdout",
     "output_type": "stream",
     "text": [
      "C:\\Users\\harsh\\OneDrive\\Documents\\Kaggle\\Google Taxi Fare forecasting\\Google-NY-Taxi-Fare\n"
     ]
    }
   ],
   "source": [
    "#Changing the current directory\n",
    "%cd \"C:\\Users\\harsh\\OneDrive\\Documents\\Kaggle\\Google Taxi Fare forecasting\\Google-NY-Taxi-Fare\""
   ]
  },
  {
   "cell_type": "code",
   "execution_count": 2,
   "id": "8f63a837",
   "metadata": {},
   "outputs": [
    {
     "name": "stdout",
     "output_type": "stream",
     "text": [
      "Requirement already satisfied: openpyxl in c:\\users\\harsh\\appdata\\local\\programs\\python\\python37\\lib\\site-packages (3.0.9)\n",
      "Requirement already satisfied: et-xmlfile in c:\\users\\harsh\\appdata\\local\\programs\\python\\python37\\lib\\site-packages (from openpyxl) (1.1.0)\n",
      "Requirement already satisfied: geopy in c:\\users\\harsh\\appdata\\local\\programs\\python\\python37\\lib\\site-packages (2.2.0)\n",
      "Requirement already satisfied: geographiclib<2,>=1.49 in c:\\users\\harsh\\appdata\\local\\programs\\python\\python37\\lib\\site-packages (from geopy) (1.52)\n",
      "Requirement already satisfied: seaborn in c:\\users\\harsh\\appdata\\local\\programs\\python\\python37\\lib\\site-packages (0.11.2)\n",
      "Requirement already satisfied: matplotlib>=2.2 in c:\\users\\harsh\\appdata\\local\\programs\\python\\python37\\lib\\site-packages (from seaborn) (3.4.3)\n",
      "Requirement already satisfied: numpy>=1.15 in c:\\users\\harsh\\appdata\\local\\programs\\python\\python37\\lib\\site-packages (from seaborn) (1.21.4)\n",
      "Requirement already satisfied: scipy>=1.0 in c:\\users\\harsh\\appdata\\local\\programs\\python\\python37\\lib\\site-packages (from seaborn) (1.7.2)\n",
      "Requirement already satisfied: pandas>=0.23 in c:\\users\\harsh\\appdata\\local\\programs\\python\\python37\\lib\\site-packages (from seaborn) (1.1.5)\n",
      "Requirement already satisfied: kiwisolver>=1.0.1 in c:\\users\\harsh\\appdata\\local\\programs\\python\\python37\\lib\\site-packages (from matplotlib>=2.2->seaborn) (1.3.2)\n",
      "Requirement already satisfied: cycler>=0.10 in c:\\users\\harsh\\appdata\\local\\programs\\python\\python37\\lib\\site-packages (from matplotlib>=2.2->seaborn) (0.11.0)\n",
      "Requirement already satisfied: pyparsing>=2.2.1 in c:\\users\\harsh\\appdata\\local\\programs\\python\\python37\\lib\\site-packages (from matplotlib>=2.2->seaborn) (2.4.7)\n",
      "Requirement already satisfied: python-dateutil>=2.7 in c:\\users\\harsh\\appdata\\local\\programs\\python\\python37\\lib\\site-packages (from matplotlib>=2.2->seaborn) (2.8.2)\n",
      "Requirement already satisfied: pillow>=6.2.0 in c:\\users\\harsh\\appdata\\local\\programs\\python\\python37\\lib\\site-packages (from matplotlib>=2.2->seaborn) (8.4.0)\n",
      "Requirement already satisfied: pytz>=2017.2 in c:\\users\\harsh\\appdata\\local\\programs\\python\\python37\\lib\\site-packages (from pandas>=0.23->seaborn) (2021.3)\n",
      "Requirement already satisfied: six>=1.5 in c:\\users\\harsh\\appdata\\local\\programs\\python\\python37\\lib\\site-packages (from python-dateutil>=2.7->matplotlib>=2.2->seaborn) (1.16.0)\n"
     ]
    }
   ],
   "source": [
    "!pip install openpyxl\n",
    "!pip install geopy\n",
    "!pip install seaborn"
   ]
  },
  {
   "cell_type": "code",
   "execution_count": 263,
   "id": "30c7c4cb",
   "metadata": {
    "scrolled": true
   },
   "outputs": [
    {
     "data": {
      "text/html": [
       "<div>\n",
       "<style scoped>\n",
       "    .dataframe tbody tr th:only-of-type {\n",
       "        vertical-align: middle;\n",
       "    }\n",
       "\n",
       "    .dataframe tbody tr th {\n",
       "        vertical-align: top;\n",
       "    }\n",
       "\n",
       "    .dataframe thead th {\n",
       "        text-align: right;\n",
       "    }\n",
       "</style>\n",
       "<table border=\"1\" class=\"dataframe\">\n",
       "  <thead>\n",
       "    <tr style=\"text-align: right;\">\n",
       "      <th></th>\n",
       "      <th>key</th>\n",
       "      <th>fare_amount</th>\n",
       "      <th>pickup_datetime</th>\n",
       "      <th>pickup_longitude</th>\n",
       "      <th>pickup_latitude</th>\n",
       "      <th>dropoff_longitude</th>\n",
       "      <th>dropoff_latitude</th>\n",
       "      <th>passenger_count</th>\n",
       "    </tr>\n",
       "  </thead>\n",
       "  <tbody>\n",
       "    <tr>\n",
       "      <th>0</th>\n",
       "      <td>2009-06-15 17:26:21.0000001</td>\n",
       "      <td>4.5</td>\n",
       "      <td>2009-06-15 17:26:21 UTC</td>\n",
       "      <td>-73.844311</td>\n",
       "      <td>40.721319</td>\n",
       "      <td>-73.841610</td>\n",
       "      <td>40.712278</td>\n",
       "      <td>1</td>\n",
       "    </tr>\n",
       "    <tr>\n",
       "      <th>1</th>\n",
       "      <td>2010-01-05 16:52:16.0000002</td>\n",
       "      <td>16.9</td>\n",
       "      <td>2010-01-05 16:52:16 UTC</td>\n",
       "      <td>-74.016048</td>\n",
       "      <td>40.711303</td>\n",
       "      <td>-73.979268</td>\n",
       "      <td>40.782004</td>\n",
       "      <td>1</td>\n",
       "    </tr>\n",
       "    <tr>\n",
       "      <th>2</th>\n",
       "      <td>2011-08-18 00:35:00.00000049</td>\n",
       "      <td>5.7</td>\n",
       "      <td>2011-08-18 00:35:00 UTC</td>\n",
       "      <td>-73.982738</td>\n",
       "      <td>40.761270</td>\n",
       "      <td>-73.991242</td>\n",
       "      <td>40.750562</td>\n",
       "      <td>2</td>\n",
       "    </tr>\n",
       "    <tr>\n",
       "      <th>3</th>\n",
       "      <td>2012-04-21 04:30:42.0000001</td>\n",
       "      <td>7.7</td>\n",
       "      <td>2012-04-21 04:30:42 UTC</td>\n",
       "      <td>-73.987130</td>\n",
       "      <td>40.733143</td>\n",
       "      <td>-73.991567</td>\n",
       "      <td>40.758092</td>\n",
       "      <td>1</td>\n",
       "    </tr>\n",
       "    <tr>\n",
       "      <th>4</th>\n",
       "      <td>2010-03-09 07:51:00.000000135</td>\n",
       "      <td>5.3</td>\n",
       "      <td>2010-03-09 07:51:00 UTC</td>\n",
       "      <td>-73.968095</td>\n",
       "      <td>40.768008</td>\n",
       "      <td>-73.956655</td>\n",
       "      <td>40.783762</td>\n",
       "      <td>1</td>\n",
       "    </tr>\n",
       "    <tr>\n",
       "      <th>5</th>\n",
       "      <td>2011-01-06 09:50:45.0000002</td>\n",
       "      <td>12.1</td>\n",
       "      <td>2011-01-06 09:50:45 UTC</td>\n",
       "      <td>-74.000964</td>\n",
       "      <td>40.731630</td>\n",
       "      <td>-73.972892</td>\n",
       "      <td>40.758233</td>\n",
       "      <td>1</td>\n",
       "    </tr>\n",
       "    <tr>\n",
       "      <th>6</th>\n",
       "      <td>2012-11-20 20:35:00.0000001</td>\n",
       "      <td>7.5</td>\n",
       "      <td>2012-11-20 20:35:00 UTC</td>\n",
       "      <td>-73.980002</td>\n",
       "      <td>40.751662</td>\n",
       "      <td>-73.973802</td>\n",
       "      <td>40.764842</td>\n",
       "      <td>1</td>\n",
       "    </tr>\n",
       "    <tr>\n",
       "      <th>7</th>\n",
       "      <td>2012-01-04 17:22:00.00000081</td>\n",
       "      <td>16.5</td>\n",
       "      <td>2012-01-04 17:22:00 UTC</td>\n",
       "      <td>-73.951300</td>\n",
       "      <td>40.774138</td>\n",
       "      <td>-73.990095</td>\n",
       "      <td>40.751048</td>\n",
       "      <td>1</td>\n",
       "    </tr>\n",
       "    <tr>\n",
       "      <th>8</th>\n",
       "      <td>2012-12-03 13:10:00.000000125</td>\n",
       "      <td>9.0</td>\n",
       "      <td>2012-12-03 13:10:00 UTC</td>\n",
       "      <td>-74.006462</td>\n",
       "      <td>40.726713</td>\n",
       "      <td>-73.993078</td>\n",
       "      <td>40.731628</td>\n",
       "      <td>1</td>\n",
       "    </tr>\n",
       "    <tr>\n",
       "      <th>9</th>\n",
       "      <td>2009-09-02 01:11:00.00000083</td>\n",
       "      <td>8.9</td>\n",
       "      <td>2009-09-02 01:11:00 UTC</td>\n",
       "      <td>-73.980658</td>\n",
       "      <td>40.733873</td>\n",
       "      <td>-73.991540</td>\n",
       "      <td>40.758138</td>\n",
       "      <td>2</td>\n",
       "    </tr>\n",
       "  </tbody>\n",
       "</table>\n",
       "</div>"
      ],
      "text/plain": [
       "                             key  fare_amount          pickup_datetime  \\\n",
       "0    2009-06-15 17:26:21.0000001          4.5  2009-06-15 17:26:21 UTC   \n",
       "1    2010-01-05 16:52:16.0000002         16.9  2010-01-05 16:52:16 UTC   \n",
       "2   2011-08-18 00:35:00.00000049          5.7  2011-08-18 00:35:00 UTC   \n",
       "3    2012-04-21 04:30:42.0000001          7.7  2012-04-21 04:30:42 UTC   \n",
       "4  2010-03-09 07:51:00.000000135          5.3  2010-03-09 07:51:00 UTC   \n",
       "5    2011-01-06 09:50:45.0000002         12.1  2011-01-06 09:50:45 UTC   \n",
       "6    2012-11-20 20:35:00.0000001          7.5  2012-11-20 20:35:00 UTC   \n",
       "7   2012-01-04 17:22:00.00000081         16.5  2012-01-04 17:22:00 UTC   \n",
       "8  2012-12-03 13:10:00.000000125          9.0  2012-12-03 13:10:00 UTC   \n",
       "9   2009-09-02 01:11:00.00000083          8.9  2009-09-02 01:11:00 UTC   \n",
       "\n",
       "   pickup_longitude  pickup_latitude  dropoff_longitude  dropoff_latitude  \\\n",
       "0        -73.844311        40.721319         -73.841610         40.712278   \n",
       "1        -74.016048        40.711303         -73.979268         40.782004   \n",
       "2        -73.982738        40.761270         -73.991242         40.750562   \n",
       "3        -73.987130        40.733143         -73.991567         40.758092   \n",
       "4        -73.968095        40.768008         -73.956655         40.783762   \n",
       "5        -74.000964        40.731630         -73.972892         40.758233   \n",
       "6        -73.980002        40.751662         -73.973802         40.764842   \n",
       "7        -73.951300        40.774138         -73.990095         40.751048   \n",
       "8        -74.006462        40.726713         -73.993078         40.731628   \n",
       "9        -73.980658        40.733873         -73.991540         40.758138   \n",
       "\n",
       "   passenger_count  \n",
       "0                1  \n",
       "1                1  \n",
       "2                2  \n",
       "3                1  \n",
       "4                1  \n",
       "5                1  \n",
       "6                1  \n",
       "7                1  \n",
       "8                1  \n",
       "9                2  "
      ]
     },
     "execution_count": 263,
     "metadata": {},
     "output_type": "execute_result"
    }
   ],
   "source": [
    "import pandas as pd\n",
    "import numpy as np\n",
    "import warnings\n",
    "from datetime import datetime,date,timedelta,timezone,tzinfo\n",
    "from dateutil import tz\n",
    "import pytz\n",
    "import matplotlib.pyplot as plt\n",
    "import matplotlib.gridspec as gd\n",
    "from geopy.geocoders import Nominatim\n",
    "from geopy.extra.rate_limiter import RateLimiter\n",
    "import seaborn as sns\n",
    "from pandas.tseries.holiday import USFederalHolidayCalendar as calendar\n",
    "\n",
    "warnings.filterwarnings('ignore')\n",
    "Data_test = pd.read_csv(\"train.csv\", nrows=500000)\n",
    "Data_test.head(10)"
   ]
  },
  {
   "cell_type": "markdown",
   "id": "12d14247",
   "metadata": {},
   "source": [
    "### Checking the nulls of all the columns!"
   ]
  },
  {
   "cell_type": "code",
   "execution_count": 4,
   "id": "31398d8e",
   "metadata": {
    "scrolled": false
   },
   "outputs": [
    {
     "data": {
      "text/html": [
       "<div>\n",
       "<style scoped>\n",
       "    .dataframe tbody tr th:only-of-type {\n",
       "        vertical-align: middle;\n",
       "    }\n",
       "\n",
       "    .dataframe tbody tr th {\n",
       "        vertical-align: top;\n",
       "    }\n",
       "\n",
       "    .dataframe thead th {\n",
       "        text-align: right;\n",
       "    }\n",
       "</style>\n",
       "<table border=\"1\" class=\"dataframe\">\n",
       "  <thead>\n",
       "    <tr style=\"text-align: right;\">\n",
       "      <th></th>\n",
       "      <th>fare_amount</th>\n",
       "      <th>pickup_longitude</th>\n",
       "      <th>pickup_latitude</th>\n",
       "      <th>dropoff_longitude</th>\n",
       "      <th>dropoff_latitude</th>\n",
       "      <th>passenger_count</th>\n",
       "    </tr>\n",
       "  </thead>\n",
       "  <tbody>\n",
       "    <tr>\n",
       "      <th>count</th>\n",
       "      <td>500000.000000</td>\n",
       "      <td>500000.000000</td>\n",
       "      <td>500000.000000</td>\n",
       "      <td>499995.000000</td>\n",
       "      <td>499995.000000</td>\n",
       "      <td>500000.000000</td>\n",
       "    </tr>\n",
       "    <tr>\n",
       "      <th>mean</th>\n",
       "      <td>11.358361</td>\n",
       "      <td>-72.519958</td>\n",
       "      <td>39.920276</td>\n",
       "      <td>-72.522435</td>\n",
       "      <td>39.916526</td>\n",
       "      <td>1.683428</td>\n",
       "    </tr>\n",
       "    <tr>\n",
       "      <th>std</th>\n",
       "      <td>9.916617</td>\n",
       "      <td>11.856831</td>\n",
       "      <td>8.073475</td>\n",
       "      <td>11.797362</td>\n",
       "      <td>7.391002</td>\n",
       "      <td>1.307395</td>\n",
       "    </tr>\n",
       "    <tr>\n",
       "      <th>min</th>\n",
       "      <td>-44.900000</td>\n",
       "      <td>-2986.242495</td>\n",
       "      <td>-3116.285383</td>\n",
       "      <td>-3383.296608</td>\n",
       "      <td>-2559.748913</td>\n",
       "      <td>0.000000</td>\n",
       "    </tr>\n",
       "    <tr>\n",
       "      <th>25%</th>\n",
       "      <td>6.000000</td>\n",
       "      <td>-73.992047</td>\n",
       "      <td>40.734917</td>\n",
       "      <td>-73.991382</td>\n",
       "      <td>40.734057</td>\n",
       "      <td>1.000000</td>\n",
       "    </tr>\n",
       "    <tr>\n",
       "      <th>50%</th>\n",
       "      <td>8.500000</td>\n",
       "      <td>-73.981785</td>\n",
       "      <td>40.752670</td>\n",
       "      <td>-73.980126</td>\n",
       "      <td>40.753152</td>\n",
       "      <td>1.000000</td>\n",
       "    </tr>\n",
       "    <tr>\n",
       "      <th>75%</th>\n",
       "      <td>12.500000</td>\n",
       "      <td>-73.967117</td>\n",
       "      <td>40.767076</td>\n",
       "      <td>-73.963572</td>\n",
       "      <td>40.768135</td>\n",
       "      <td>2.000000</td>\n",
       "    </tr>\n",
       "    <tr>\n",
       "      <th>max</th>\n",
       "      <td>500.000000</td>\n",
       "      <td>2140.601160</td>\n",
       "      <td>1703.092772</td>\n",
       "      <td>40.851027</td>\n",
       "      <td>404.616667</td>\n",
       "      <td>6.000000</td>\n",
       "    </tr>\n",
       "  </tbody>\n",
       "</table>\n",
       "</div>"
      ],
      "text/plain": [
       "         fare_amount  pickup_longitude  pickup_latitude  dropoff_longitude  \\\n",
       "count  500000.000000     500000.000000    500000.000000      499995.000000   \n",
       "mean       11.358361        -72.519958        39.920276         -72.522435   \n",
       "std         9.916617         11.856831         8.073475          11.797362   \n",
       "min       -44.900000      -2986.242495     -3116.285383       -3383.296608   \n",
       "25%         6.000000        -73.992047        40.734917         -73.991382   \n",
       "50%         8.500000        -73.981785        40.752670         -73.980126   \n",
       "75%        12.500000        -73.967117        40.767076         -73.963572   \n",
       "max       500.000000       2140.601160      1703.092772          40.851027   \n",
       "\n",
       "       dropoff_latitude  passenger_count  \n",
       "count     499995.000000    500000.000000  \n",
       "mean          39.916526         1.683428  \n",
       "std            7.391002         1.307395  \n",
       "min        -2559.748913         0.000000  \n",
       "25%           40.734057         1.000000  \n",
       "50%           40.753152         1.000000  \n",
       "75%           40.768135         2.000000  \n",
       "max          404.616667         6.000000  "
      ]
     },
     "execution_count": 4,
     "metadata": {},
     "output_type": "execute_result"
    }
   ],
   "source": [
    "Data_test.describe()"
   ]
  },
  {
   "cell_type": "code",
   "execution_count": 5,
   "id": "ff4977fd",
   "metadata": {},
   "outputs": [
    {
     "name": "stdout",
     "output_type": "stream",
     "text": [
      "<class 'pandas.core.frame.DataFrame'>\n",
      "RangeIndex: 500000 entries, 0 to 499999\n",
      "Data columns (total 8 columns):\n",
      " #   Column             Non-Null Count   Dtype  \n",
      "---  ------             --------------   -----  \n",
      " 0   key                500000 non-null  object \n",
      " 1   fare_amount        500000 non-null  float64\n",
      " 2   pickup_datetime    500000 non-null  object \n",
      " 3   pickup_longitude   500000 non-null  float64\n",
      " 4   pickup_latitude    500000 non-null  float64\n",
      " 5   dropoff_longitude  499995 non-null  float64\n",
      " 6   dropoff_latitude   499995 non-null  float64\n",
      " 7   passenger_count    500000 non-null  int64  \n",
      "dtypes: float64(5), int64(1), object(2)\n",
      "memory usage: 30.5+ MB\n"
     ]
    }
   ],
   "source": [
    "Data_test.info()"
   ]
  },
  {
   "cell_type": "markdown",
   "id": "8ee0201d",
   "metadata": {},
   "source": [
    "##### We will remove these 5 null values"
   ]
  },
  {
   "cell_type": "code",
   "execution_count": 6,
   "id": "a3d485e0",
   "metadata": {},
   "outputs": [
    {
     "data": {
      "text/plain": [
       "(499995, 8)"
      ]
     },
     "execution_count": 6,
     "metadata": {},
     "output_type": "execute_result"
    }
   ],
   "source": [
    "Data_test_2 = Data_test.dropna(axis = 0, how = 'any')\n",
    "Data_test_2.shape"
   ]
  },
  {
   "cell_type": "markdown",
   "id": "8bc2ce69",
   "metadata": {},
   "source": [
    "## Calculate the distance between dropoff and pickup points"
   ]
  },
  {
   "cell_type": "code",
   "execution_count": 7,
   "id": "806d2a6b",
   "metadata": {
    "scrolled": true
   },
   "outputs": [
    {
     "data": {
      "text/html": [
       "<div>\n",
       "<style scoped>\n",
       "    .dataframe tbody tr th:only-of-type {\n",
       "        vertical-align: middle;\n",
       "    }\n",
       "\n",
       "    .dataframe tbody tr th {\n",
       "        vertical-align: top;\n",
       "    }\n",
       "\n",
       "    .dataframe thead th {\n",
       "        text-align: right;\n",
       "    }\n",
       "</style>\n",
       "<table border=\"1\" class=\"dataframe\">\n",
       "  <thead>\n",
       "    <tr style=\"text-align: right;\">\n",
       "      <th></th>\n",
       "      <th>distance</th>\n",
       "      <th>pickup_longitude</th>\n",
       "      <th>pickup_latitude</th>\n",
       "      <th>dropoff_longitude</th>\n",
       "      <th>dropoff_latitude</th>\n",
       "    </tr>\n",
       "  </thead>\n",
       "  <tbody>\n",
       "    <tr>\n",
       "      <th>0</th>\n",
       "      <td>0.009436</td>\n",
       "      <td>-73.844311</td>\n",
       "      <td>40.721319</td>\n",
       "      <td>-73.841610</td>\n",
       "      <td>40.712278</td>\n",
       "    </tr>\n",
       "    <tr>\n",
       "      <th>1</th>\n",
       "      <td>0.079696</td>\n",
       "      <td>-74.016048</td>\n",
       "      <td>40.711303</td>\n",
       "      <td>-73.979268</td>\n",
       "      <td>40.782004</td>\n",
       "    </tr>\n",
       "    <tr>\n",
       "      <th>2</th>\n",
       "      <td>0.013674</td>\n",
       "      <td>-73.982738</td>\n",
       "      <td>40.761270</td>\n",
       "      <td>-73.991242</td>\n",
       "      <td>40.750562</td>\n",
       "    </tr>\n",
       "    <tr>\n",
       "      <th>3</th>\n",
       "      <td>0.025340</td>\n",
       "      <td>-73.987130</td>\n",
       "      <td>40.733143</td>\n",
       "      <td>-73.991567</td>\n",
       "      <td>40.758092</td>\n",
       "    </tr>\n",
       "    <tr>\n",
       "      <th>4</th>\n",
       "      <td>0.019470</td>\n",
       "      <td>-73.968095</td>\n",
       "      <td>40.768008</td>\n",
       "      <td>-73.956655</td>\n",
       "      <td>40.783762</td>\n",
       "    </tr>\n",
       "    <tr>\n",
       "      <th>...</th>\n",
       "      <td>...</td>\n",
       "      <td>...</td>\n",
       "      <td>...</td>\n",
       "      <td>...</td>\n",
       "      <td>...</td>\n",
       "    </tr>\n",
       "    <tr>\n",
       "      <th>499995</th>\n",
       "      <td>0.015112</td>\n",
       "      <td>-73.978775</td>\n",
       "      <td>40.766724</td>\n",
       "      <td>-73.966072</td>\n",
       "      <td>40.758537</td>\n",
       "    </tr>\n",
       "    <tr>\n",
       "      <th>499996</th>\n",
       "      <td>0.009898</td>\n",
       "      <td>-74.002932</td>\n",
       "      <td>40.718408</td>\n",
       "      <td>-74.009442</td>\n",
       "      <td>40.710952</td>\n",
       "    </tr>\n",
       "    <tr>\n",
       "      <th>499997</th>\n",
       "      <td>0.090807</td>\n",
       "      <td>-73.983885</td>\n",
       "      <td>40.725611</td>\n",
       "      <td>-73.896482</td>\n",
       "      <td>40.700980</td>\n",
       "    </tr>\n",
       "    <tr>\n",
       "      <th>499998</th>\n",
       "      <td>0.009400</td>\n",
       "      <td>-73.974617</td>\n",
       "      <td>40.756512</td>\n",
       "      <td>-73.970184</td>\n",
       "      <td>40.764801</td>\n",
       "    </tr>\n",
       "    <tr>\n",
       "      <th>499999</th>\n",
       "      <td>0.009708</td>\n",
       "      <td>-73.986743</td>\n",
       "      <td>40.722187</td>\n",
       "      <td>-73.982768</td>\n",
       "      <td>40.713330</td>\n",
       "    </tr>\n",
       "  </tbody>\n",
       "</table>\n",
       "<p>499995 rows × 5 columns</p>\n",
       "</div>"
      ],
      "text/plain": [
       "        distance  pickup_longitude  pickup_latitude  dropoff_longitude  \\\n",
       "0       0.009436        -73.844311        40.721319         -73.841610   \n",
       "1       0.079696        -74.016048        40.711303         -73.979268   \n",
       "2       0.013674        -73.982738        40.761270         -73.991242   \n",
       "3       0.025340        -73.987130        40.733143         -73.991567   \n",
       "4       0.019470        -73.968095        40.768008         -73.956655   \n",
       "...          ...               ...              ...                ...   \n",
       "499995  0.015112        -73.978775        40.766724         -73.966072   \n",
       "499996  0.009898        -74.002932        40.718408         -74.009442   \n",
       "499997  0.090807        -73.983885        40.725611         -73.896482   \n",
       "499998  0.009400        -73.974617        40.756512         -73.970184   \n",
       "499999  0.009708        -73.986743        40.722187         -73.982768   \n",
       "\n",
       "        dropoff_latitude  \n",
       "0              40.712278  \n",
       "1              40.782004  \n",
       "2              40.750562  \n",
       "3              40.758092  \n",
       "4              40.783762  \n",
       "...                  ...  \n",
       "499995         40.758537  \n",
       "499996         40.710952  \n",
       "499997         40.700980  \n",
       "499998         40.764801  \n",
       "499999         40.713330  \n",
       "\n",
       "[499995 rows x 5 columns]"
      ]
     },
     "execution_count": 7,
     "metadata": {},
     "output_type": "execute_result"
    }
   ],
   "source": [
    "Data_test_2['distance'] = np.sqrt(np.power((Data_test_2['pickup_longitude']-Data_test_2['dropoff_longitude']),2)+np.power((Data_test_2['pickup_latitude']-Data_test_2['dropoff_latitude']),2))\n",
    "Data_test_2.loc[:,['distance','pickup_longitude','pickup_latitude','dropoff_longitude','dropoff_latitude']]"
   ]
  },
  {
   "cell_type": "markdown",
   "id": "3abfc535",
   "metadata": {},
   "source": [
    "### Check the datetime format of pickup_date column\n",
    "\n",
    "We need to also convert the UTC timezone to eastern time zone to better observe the night and day have on our metrics. Keep in mind that in certain years UTC is -4  hours in certain years and -5 hours in others"
   ]
  },
  {
   "cell_type": "code",
   "execution_count": 8,
   "id": "60f59f90",
   "metadata": {},
   "outputs": [
    {
     "data": {
      "text/html": [
       "<div>\n",
       "<style scoped>\n",
       "    .dataframe tbody tr th:only-of-type {\n",
       "        vertical-align: middle;\n",
       "    }\n",
       "\n",
       "    .dataframe tbody tr th {\n",
       "        vertical-align: top;\n",
       "    }\n",
       "\n",
       "    .dataframe thead th {\n",
       "        text-align: right;\n",
       "    }\n",
       "</style>\n",
       "<table border=\"1\" class=\"dataframe\">\n",
       "  <thead>\n",
       "    <tr style=\"text-align: right;\">\n",
       "      <th></th>\n",
       "      <th>pickup_datetime_2</th>\n",
       "      <th>pickup_datetime</th>\n",
       "    </tr>\n",
       "  </thead>\n",
       "  <tbody>\n",
       "    <tr>\n",
       "      <th>0</th>\n",
       "      <td>2009-06-15 13:26:21-04:00</td>\n",
       "      <td>2009-06-15 17:26:21 UTC</td>\n",
       "    </tr>\n",
       "    <tr>\n",
       "      <th>1</th>\n",
       "      <td>2010-01-05 11:52:16-05:00</td>\n",
       "      <td>2010-01-05 16:52:16 UTC</td>\n",
       "    </tr>\n",
       "    <tr>\n",
       "      <th>2</th>\n",
       "      <td>2011-08-17 20:35:00-04:00</td>\n",
       "      <td>2011-08-18 00:35:00 UTC</td>\n",
       "    </tr>\n",
       "    <tr>\n",
       "      <th>3</th>\n",
       "      <td>2012-04-21 00:30:42-04:00</td>\n",
       "      <td>2012-04-21 04:30:42 UTC</td>\n",
       "    </tr>\n",
       "    <tr>\n",
       "      <th>4</th>\n",
       "      <td>2010-03-09 02:51:00-05:00</td>\n",
       "      <td>2010-03-09 07:51:00 UTC</td>\n",
       "    </tr>\n",
       "    <tr>\n",
       "      <th>5</th>\n",
       "      <td>2011-01-06 04:50:45-05:00</td>\n",
       "      <td>2011-01-06 09:50:45 UTC</td>\n",
       "    </tr>\n",
       "    <tr>\n",
       "      <th>6</th>\n",
       "      <td>2012-11-20 15:35:00-05:00</td>\n",
       "      <td>2012-11-20 20:35:00 UTC</td>\n",
       "    </tr>\n",
       "    <tr>\n",
       "      <th>7</th>\n",
       "      <td>2012-01-04 12:22:00-05:00</td>\n",
       "      <td>2012-01-04 17:22:00 UTC</td>\n",
       "    </tr>\n",
       "    <tr>\n",
       "      <th>8</th>\n",
       "      <td>2012-12-03 08:10:00-05:00</td>\n",
       "      <td>2012-12-03 13:10:00 UTC</td>\n",
       "    </tr>\n",
       "    <tr>\n",
       "      <th>9</th>\n",
       "      <td>2009-09-01 21:11:00-04:00</td>\n",
       "      <td>2009-09-02 01:11:00 UTC</td>\n",
       "    </tr>\n",
       "  </tbody>\n",
       "</table>\n",
       "</div>"
      ],
      "text/plain": [
       "          pickup_datetime_2          pickup_datetime\n",
       "0 2009-06-15 13:26:21-04:00  2009-06-15 17:26:21 UTC\n",
       "1 2010-01-05 11:52:16-05:00  2010-01-05 16:52:16 UTC\n",
       "2 2011-08-17 20:35:00-04:00  2011-08-18 00:35:00 UTC\n",
       "3 2012-04-21 00:30:42-04:00  2012-04-21 04:30:42 UTC\n",
       "4 2010-03-09 02:51:00-05:00  2010-03-09 07:51:00 UTC\n",
       "5 2011-01-06 04:50:45-05:00  2011-01-06 09:50:45 UTC\n",
       "6 2012-11-20 15:35:00-05:00  2012-11-20 20:35:00 UTC\n",
       "7 2012-01-04 12:22:00-05:00  2012-01-04 17:22:00 UTC\n",
       "8 2012-12-03 08:10:00-05:00  2012-12-03 13:10:00 UTC\n",
       "9 2009-09-01 21:11:00-04:00  2009-09-02 01:11:00 UTC"
      ]
     },
     "execution_count": 8,
     "metadata": {},
     "output_type": "execute_result"
    }
   ],
   "source": [
    "local_timezone = pytz.timezone('US/Eastern')\n",
    "from_zone = tz.tzutc()\n",
    "to_zone = tz.gettz('US/Eastern')\n",
    "\n",
    "Data_test_2['pickup_datetime_2'] = pd.to_datetime(Data_test_2['pickup_datetime'])\n",
    "Data_test_2['pickup_datetime_2'] = Data_test_2['pickup_datetime_2'].apply(lambda x : x.replace(tzinfo = from_zone))\n",
    "Data_test_2['pickup_datetime_2'] = Data_test_2['pickup_datetime_2'].apply(lambda x : x.astimezone(to_zone))\n",
    "Data_test_2.loc[:,['pickup_datetime_2','pickup_datetime']].head(10)"
   ]
  },
  {
   "cell_type": "markdown",
   "id": "d7fdfb83",
   "metadata": {},
   "source": [
    "### Creating a binary variable for Weekend"
   ]
  },
  {
   "cell_type": "code",
   "execution_count": 9,
   "id": "ab7061a5",
   "metadata": {
    "scrolled": true
   },
   "outputs": [
    {
     "data": {
      "text/plain": [
       "0    0\n",
       "1    0\n",
       "2    0\n",
       "3    1\n",
       "4    0\n",
       "5    0\n",
       "6    0\n",
       "7    0\n",
       "8    0\n",
       "9    0\n",
       "Name: Weekend, dtype: int64"
      ]
     },
     "execution_count": 9,
     "metadata": {},
     "output_type": "execute_result"
    }
   ],
   "source": [
    "Data_test_2['Weekend'] = [0 if i.weekday() <5 else 1 for i in Data_test_2['pickup_datetime_2']]\n",
    "Data_test_2['Weekend'].head(10)"
   ]
  },
  {
   "cell_type": "markdown",
   "id": "aac2dbab",
   "metadata": {},
   "source": [
    "### Inflation adjusted of the fare amount\n",
    "\n",
    "Since we have year 2009 to 2015, we would need to adjust for inflation in order to put all the things on the same scale"
   ]
  },
  {
   "cell_type": "code",
   "execution_count": 10,
   "id": "72363ee1",
   "metadata": {},
   "outputs": [
    {
     "data": {
      "text/html": [
       "<div>\n",
       "<style scoped>\n",
       "    .dataframe tbody tr th:only-of-type {\n",
       "        vertical-align: middle;\n",
       "    }\n",
       "\n",
       "    .dataframe tbody tr th {\n",
       "        vertical-align: top;\n",
       "    }\n",
       "\n",
       "    .dataframe thead th {\n",
       "        text-align: right;\n",
       "    }\n",
       "</style>\n",
       "<table border=\"1\" class=\"dataframe\">\n",
       "  <thead>\n",
       "    <tr style=\"text-align: right;\">\n",
       "      <th></th>\n",
       "      <th>key</th>\n",
       "      <th>fare_amount</th>\n",
       "      <th>pickup_datetime</th>\n",
       "      <th>pickup_longitude</th>\n",
       "      <th>pickup_latitude</th>\n",
       "      <th>dropoff_longitude</th>\n",
       "      <th>dropoff_latitude</th>\n",
       "      <th>passenger_count</th>\n",
       "      <th>distance</th>\n",
       "      <th>pickup_datetime_2</th>\n",
       "      <th>Weekend</th>\n",
       "      <th>Year</th>\n",
       "      <th>Inflation_factor</th>\n",
       "      <th>inflation_adjusted_fare_amount</th>\n",
       "    </tr>\n",
       "  </thead>\n",
       "  <tbody>\n",
       "    <tr>\n",
       "      <th>0</th>\n",
       "      <td>2009-06-15 17:26:21.0000001</td>\n",
       "      <td>4.5</td>\n",
       "      <td>2009-06-15 17:26:21 UTC</td>\n",
       "      <td>-73.844311</td>\n",
       "      <td>40.721319</td>\n",
       "      <td>-73.841610</td>\n",
       "      <td>40.712278</td>\n",
       "      <td>1</td>\n",
       "      <td>0.009436</td>\n",
       "      <td>2009-06-15 13:26:21-04:00</td>\n",
       "      <td>0</td>\n",
       "      <td>2009</td>\n",
       "      <td>1.004409</td>\n",
       "      <td>4.480248</td>\n",
       "    </tr>\n",
       "    <tr>\n",
       "      <th>1</th>\n",
       "      <td>2009-09-02 01:11:00.00000083</td>\n",
       "      <td>8.9</td>\n",
       "      <td>2009-09-02 01:11:00 UTC</td>\n",
       "      <td>-73.980658</td>\n",
       "      <td>40.733873</td>\n",
       "      <td>-73.991540</td>\n",
       "      <td>40.758138</td>\n",
       "      <td>2</td>\n",
       "      <td>0.026593</td>\n",
       "      <td>2009-09-01 21:11:00-04:00</td>\n",
       "      <td>0</td>\n",
       "      <td>2009</td>\n",
       "      <td>1.004409</td>\n",
       "      <td>8.860935</td>\n",
       "    </tr>\n",
       "    <tr>\n",
       "      <th>2</th>\n",
       "      <td>2009-11-06 01:04:03.0000002</td>\n",
       "      <td>4.1</td>\n",
       "      <td>2009-11-06 01:04:03 UTC</td>\n",
       "      <td>-73.991601</td>\n",
       "      <td>40.744712</td>\n",
       "      <td>-73.983081</td>\n",
       "      <td>40.744682</td>\n",
       "      <td>2</td>\n",
       "      <td>0.008520</td>\n",
       "      <td>2009-11-05 20:04:03-05:00</td>\n",
       "      <td>0</td>\n",
       "      <td>2009</td>\n",
       "      <td>1.004409</td>\n",
       "      <td>4.082004</td>\n",
       "    </tr>\n",
       "    <tr>\n",
       "      <th>3</th>\n",
       "      <td>2009-07-22 16:08:00.000000163</td>\n",
       "      <td>5.3</td>\n",
       "      <td>2009-07-22 16:08:00 UTC</td>\n",
       "      <td>-73.981060</td>\n",
       "      <td>40.737690</td>\n",
       "      <td>-73.994177</td>\n",
       "      <td>40.728412</td>\n",
       "      <td>1</td>\n",
       "      <td>0.016067</td>\n",
       "      <td>2009-07-22 12:08:00-04:00</td>\n",
       "      <td>0</td>\n",
       "      <td>2009</td>\n",
       "      <td>1.004409</td>\n",
       "      <td>5.276736</td>\n",
       "    </tr>\n",
       "    <tr>\n",
       "      <th>4</th>\n",
       "      <td>2009-08-06 18:17:23.0000001</td>\n",
       "      <td>4.5</td>\n",
       "      <td>2009-08-06 18:17:23 UTC</td>\n",
       "      <td>-73.991707</td>\n",
       "      <td>40.770505</td>\n",
       "      <td>-73.985459</td>\n",
       "      <td>40.763671</td>\n",
       "      <td>1</td>\n",
       "      <td>0.009260</td>\n",
       "      <td>2009-08-06 14:17:23-04:00</td>\n",
       "      <td>0</td>\n",
       "      <td>2009</td>\n",
       "      <td>1.004409</td>\n",
       "      <td>4.480248</td>\n",
       "    </tr>\n",
       "    <tr>\n",
       "      <th>5</th>\n",
       "      <td>2009-12-10 15:37:00.00000020</td>\n",
       "      <td>6.1</td>\n",
       "      <td>2009-12-10 15:37:00 UTC</td>\n",
       "      <td>-73.969622</td>\n",
       "      <td>40.756973</td>\n",
       "      <td>-73.981152</td>\n",
       "      <td>40.759712</td>\n",
       "      <td>1</td>\n",
       "      <td>0.011851</td>\n",
       "      <td>2009-12-10 10:37:00-05:00</td>\n",
       "      <td>0</td>\n",
       "      <td>2009</td>\n",
       "      <td>1.004409</td>\n",
       "      <td>6.073225</td>\n",
       "    </tr>\n",
       "    <tr>\n",
       "      <th>6</th>\n",
       "      <td>2009-01-09 16:10:00.000000170</td>\n",
       "      <td>31.9</td>\n",
       "      <td>2009-01-09 16:10:00 UTC</td>\n",
       "      <td>-73.873027</td>\n",
       "      <td>40.773883</td>\n",
       "      <td>-73.984545</td>\n",
       "      <td>40.769545</td>\n",
       "      <td>3</td>\n",
       "      <td>0.111602</td>\n",
       "      <td>2009-01-09 11:10:00-05:00</td>\n",
       "      <td>0</td>\n",
       "      <td>2009</td>\n",
       "      <td>1.004409</td>\n",
       "      <td>31.759980</td>\n",
       "    </tr>\n",
       "    <tr>\n",
       "      <th>7</th>\n",
       "      <td>2009-03-02 20:42:49.0000003</td>\n",
       "      <td>9.8</td>\n",
       "      <td>2009-03-02 20:42:49 UTC</td>\n",
       "      <td>-73.972673</td>\n",
       "      <td>40.759186</td>\n",
       "      <td>-73.969897</td>\n",
       "      <td>40.791367</td>\n",
       "      <td>1</td>\n",
       "      <td>0.032301</td>\n",
       "      <td>2009-03-02 15:42:49-05:00</td>\n",
       "      <td>0</td>\n",
       "      <td>2009</td>\n",
       "      <td>1.004409</td>\n",
       "      <td>9.756984</td>\n",
       "    </tr>\n",
       "    <tr>\n",
       "      <th>8</th>\n",
       "      <td>2009-06-10 21:28:00.00000022</td>\n",
       "      <td>12.1</td>\n",
       "      <td>2009-06-10 21:28:00 UTC</td>\n",
       "      <td>-73.988558</td>\n",
       "      <td>40.737200</td>\n",
       "      <td>-73.958688</td>\n",
       "      <td>40.780748</td>\n",
       "      <td>1</td>\n",
       "      <td>0.052808</td>\n",
       "      <td>2009-06-10 17:28:00-04:00</td>\n",
       "      <td>0</td>\n",
       "      <td>2009</td>\n",
       "      <td>1.004409</td>\n",
       "      <td>12.046889</td>\n",
       "    </tr>\n",
       "    <tr>\n",
       "      <th>9</th>\n",
       "      <td>2009-03-23 12:13:29.0000002</td>\n",
       "      <td>6.5</td>\n",
       "      <td>2009-03-23 12:13:29 UTC</td>\n",
       "      <td>-73.985430</td>\n",
       "      <td>40.736011</td>\n",
       "      <td>-73.982501</td>\n",
       "      <td>40.724802</td>\n",
       "      <td>1</td>\n",
       "      <td>0.011585</td>\n",
       "      <td>2009-03-23 08:13:29-04:00</td>\n",
       "      <td>0</td>\n",
       "      <td>2009</td>\n",
       "      <td>1.004409</td>\n",
       "      <td>6.471469</td>\n",
       "    </tr>\n",
       "  </tbody>\n",
       "</table>\n",
       "</div>"
      ],
      "text/plain": [
       "                             key  fare_amount          pickup_datetime  \\\n",
       "0    2009-06-15 17:26:21.0000001          4.5  2009-06-15 17:26:21 UTC   \n",
       "1   2009-09-02 01:11:00.00000083          8.9  2009-09-02 01:11:00 UTC   \n",
       "2    2009-11-06 01:04:03.0000002          4.1  2009-11-06 01:04:03 UTC   \n",
       "3  2009-07-22 16:08:00.000000163          5.3  2009-07-22 16:08:00 UTC   \n",
       "4    2009-08-06 18:17:23.0000001          4.5  2009-08-06 18:17:23 UTC   \n",
       "5   2009-12-10 15:37:00.00000020          6.1  2009-12-10 15:37:00 UTC   \n",
       "6  2009-01-09 16:10:00.000000170         31.9  2009-01-09 16:10:00 UTC   \n",
       "7    2009-03-02 20:42:49.0000003          9.8  2009-03-02 20:42:49 UTC   \n",
       "8   2009-06-10 21:28:00.00000022         12.1  2009-06-10 21:28:00 UTC   \n",
       "9    2009-03-23 12:13:29.0000002          6.5  2009-03-23 12:13:29 UTC   \n",
       "\n",
       "   pickup_longitude  pickup_latitude  dropoff_longitude  dropoff_latitude  \\\n",
       "0        -73.844311        40.721319         -73.841610         40.712278   \n",
       "1        -73.980658        40.733873         -73.991540         40.758138   \n",
       "2        -73.991601        40.744712         -73.983081         40.744682   \n",
       "3        -73.981060        40.737690         -73.994177         40.728412   \n",
       "4        -73.991707        40.770505         -73.985459         40.763671   \n",
       "5        -73.969622        40.756973         -73.981152         40.759712   \n",
       "6        -73.873027        40.773883         -73.984545         40.769545   \n",
       "7        -73.972673        40.759186         -73.969897         40.791367   \n",
       "8        -73.988558        40.737200         -73.958688         40.780748   \n",
       "9        -73.985430        40.736011         -73.982501         40.724802   \n",
       "\n",
       "   passenger_count  distance         pickup_datetime_2  Weekend  Year  \\\n",
       "0                1  0.009436 2009-06-15 13:26:21-04:00        0  2009   \n",
       "1                2  0.026593 2009-09-01 21:11:00-04:00        0  2009   \n",
       "2                2  0.008520 2009-11-05 20:04:03-05:00        0  2009   \n",
       "3                1  0.016067 2009-07-22 12:08:00-04:00        0  2009   \n",
       "4                1  0.009260 2009-08-06 14:17:23-04:00        0  2009   \n",
       "5                1  0.011851 2009-12-10 10:37:00-05:00        0  2009   \n",
       "6                3  0.111602 2009-01-09 11:10:00-05:00        0  2009   \n",
       "7                1  0.032301 2009-03-02 15:42:49-05:00        0  2009   \n",
       "8                1  0.052808 2009-06-10 17:28:00-04:00        0  2009   \n",
       "9                1  0.011585 2009-03-23 08:13:29-04:00        0  2009   \n",
       "\n",
       "   Inflation_factor  inflation_adjusted_fare_amount  \n",
       "0          1.004409                        4.480248  \n",
       "1          1.004409                        8.860935  \n",
       "2          1.004409                        4.082004  \n",
       "3          1.004409                        5.276736  \n",
       "4          1.004409                        4.480248  \n",
       "5          1.004409                        6.073225  \n",
       "6          1.004409                       31.759980  \n",
       "7          1.004409                        9.756984  \n",
       "8          1.004409                       12.046889  \n",
       "9          1.004409                        6.471469  "
      ]
     },
     "execution_count": 10,
     "metadata": {},
     "output_type": "execute_result"
    }
   ],
   "source": [
    "import openpyxl\n",
    "Data_test_2['pickup_datetime_2'].dt.year.value_counts() #We see that we have data from 2008 to 2015\n",
    "inflation_data = pd.read_excel(\"inflation.xlsx\",engine = 'openpyxl')\n",
    "\n",
    "#Merging the data with Data_test_2\n",
    "Data_test_2['Year'] = Data_test_2['pickup_datetime_2'].dt.year\n",
    "Data_test_3 = Data_test_2.merge(inflation_data, how = 'inner',left_on='Year',right_on = 'Year')\n",
    "Data_test_3['inflation_adjusted_fare_amount'] = Data_test_3['fare_amount'] / Data_test_3['Inflation_factor']\n",
    "Data_test_3.head(10)"
   ]
  },
  {
   "cell_type": "markdown",
   "id": "570fd8d2",
   "metadata": {},
   "source": [
    "### Creating Address data out of the longitudinal and latitudinal data"
   ]
  },
  {
   "cell_type": "code",
   "execution_count": 11,
   "id": "03bb4ac1",
   "metadata": {},
   "outputs": [
    {
     "data": {
      "text/plain": [
       "range(0, 499995)"
      ]
     },
     "execution_count": 11,
     "metadata": {},
     "output_type": "execute_result"
    }
   ],
   "source": [
    "range(len(Data_test_3))"
   ]
  },
  {
   "cell_type": "markdown",
   "id": "55d0882c",
   "metadata": {},
   "source": [
    "### Based on the plots below , we would need to create log passenger and log inflation adjusted fare amount\n",
    "\n",
    "We would want to do so that we can use the Law of large numbers assumption while preparing Time series analysis"
   ]
  },
  {
   "cell_type": "code",
   "execution_count": 259,
   "id": "963c23e2",
   "metadata": {
    "scrolled": false
   },
   "outputs": [
    {
     "data": {
      "image/png": "[encoded data removed]",
      "text/plain": [
       "<Figure size 1080x864 with 6 Axes>"
      ]
     },
     "metadata": {
      "needs_background": "light"
     },
     "output_type": "display_data"
    }
   ],
   "source": [
    "eps = 1e-50\n",
    "fig2 = plt.figure(figsize = [15,12])\n",
    "grid_spec_2 = gd.GridSpec(nrows = 2,ncols = 3)\n",
    "fig2_1 = fig2.add_subplot(grid_spec_2[0,0]) \n",
    "fig2_2 = fig2.add_subplot(grid_spec_2[0,1])\n",
    "fig2_3 = fig2.add_subplot(grid_spec_2[1,0])\n",
    "fig2_4 = fig2.add_subplot(grid_spec_2[1,1])\n",
    "fig2_5 = fig2.add_subplot(grid_spec_2[0,2])\n",
    "fig2_6 = fig2.add_subplot(grid_spec_2[1,2])\n",
    "\n",
    "fig2_1.hist(Data_test_3['inflation_adjusted_fare_amount'],bins = 200)\n",
    "fig2_1.set_title(\"Inflation adjusted fare amount\")\n",
    "fig2_1.set_xlim(0,60)\n",
    "fig2_2.hist(Data_test_3['passenger_count'],bins = 5)\n",
    "fig2_2.set_xlim(0,6)\n",
    "fig2_5.hist(Data_test_3['distance'],bins = np.arange(0,0.4,step = 0.001))\n",
    "fig2_5.set_title(\"Distance\")\n",
    "fig2_5.set_xlim(0,1)\n",
    "fig2_2.set_title(\"Passenger Count\")\n",
    "fig2_3.hist(np.log(Data_test_3['inflation_adjusted_fare_amount']+eps),bins = 750)\n",
    "fig2_3.set_title(\"Log inflation_adjusted_fare_amount\")\n",
    "fig2_3.set_xlim(0,5)\n",
    "fig2_4.hist(np.log(Data_test_3['passenger_count']+eps),bins = np.arange(0,10,step = 1))\n",
    "fig2_4.set_title(\"Log passenger count - Doesn't show normality still\")\n",
    "fig2_4.set_xlim(-10,10)\n",
    "fig2_6.hist(np.log(Data_test_3['distance']+eps),bins = np.arange(-10,4,step = 0.1))\n",
    "fig2_6.set_title(\"Log distance\")\n",
    "\n",
    "plt.plot()\n",
    "plt.show()"
   ]
  },
  {
   "cell_type": "markdown",
   "id": "eb982fe1",
   "metadata": {},
   "source": [
    "### Scatter plot of Passenger count with fair amount"
   ]
  },
  {
   "cell_type": "code",
   "execution_count": 14,
   "id": "9d4fae18",
   "metadata": {
    "scrolled": true
   },
   "outputs": [
    {
     "data": {
      "image/png": "[encoded data removed]",
      "text/plain": [
       "<Figure size 432x288 with 1 Axes>"
      ]
     },
     "metadata": {
      "needs_background": "light"
     },
     "output_type": "display_data"
    }
   ],
   "source": [
    "Data_test_3['log_inflation_fair_amount'] = np.log(Data_test_3['inflation_adjusted_fare_amount'])\n",
    "fig3_1 = plt.scatter(Data_test_3['passenger_count'],np.log(Data_test_3['inflation_adjusted_fare_amount'])) \n",
    "plt.plot()\n",
    "plt.show()"
   ]
  },
  {
   "cell_type": "markdown",
   "id": "9d345437",
   "metadata": {},
   "source": [
    "### From the graph above and the results below , we can observe that the passenger count doesn't have an impact on fare amount, Hence we will move on to Plots of distance with fare amount"
   ]
  },
  {
   "cell_type": "code",
   "execution_count": 15,
   "id": "652ff31b",
   "metadata": {},
   "outputs": [
    {
     "data": {
      "text/html": [
       "<div>\n",
       "<style scoped>\n",
       "    .dataframe tbody tr th:only-of-type {\n",
       "        vertical-align: middle;\n",
       "    }\n",
       "\n",
       "    .dataframe tbody tr th {\n",
       "        vertical-align: top;\n",
       "    }\n",
       "\n",
       "    .dataframe thead tr th {\n",
       "        text-align: left;\n",
       "    }\n",
       "\n",
       "    .dataframe thead tr:last-of-type th {\n",
       "        text-align: right;\n",
       "    }\n",
       "</style>\n",
       "<table border=\"1\" class=\"dataframe\">\n",
       "  <thead>\n",
       "    <tr>\n",
       "      <th></th>\n",
       "      <th colspan=\"5\" halign=\"left\">inflation_adjusted_fare_amount</th>\n",
       "    </tr>\n",
       "    <tr>\n",
       "      <th></th>\n",
       "      <th>len</th>\n",
       "      <th>amin</th>\n",
       "      <th>median</th>\n",
       "      <th>mean</th>\n",
       "      <th>amax</th>\n",
       "    </tr>\n",
       "    <tr>\n",
       "      <th>passenger_count</th>\n",
       "      <th></th>\n",
       "      <th></th>\n",
       "      <th></th>\n",
       "      <th></th>\n",
       "      <th></th>\n",
       "    </tr>\n",
       "  </thead>\n",
       "  <tbody>\n",
       "    <tr>\n",
       "      <th>0</th>\n",
       "      <td>1791.0</td>\n",
       "      <td>2.262292</td>\n",
       "      <td>6.948303</td>\n",
       "      <td>8.474857</td>\n",
       "      <td>80.763807</td>\n",
       "    </tr>\n",
       "    <tr>\n",
       "      <th>1</th>\n",
       "      <td>346009.0</td>\n",
       "      <td>-43.953260</td>\n",
       "      <td>7.803421</td>\n",
       "      <td>10.566293</td>\n",
       "      <td>475.911198</td>\n",
       "    </tr>\n",
       "    <tr>\n",
       "      <th>2</th>\n",
       "      <td>73908.0</td>\n",
       "      <td>-2.262292</td>\n",
       "      <td>8.144249</td>\n",
       "      <td>11.166980</td>\n",
       "      <td>238.518361</td>\n",
       "    </tr>\n",
       "    <tr>\n",
       "      <th>3</th>\n",
       "      <td>21761.0</td>\n",
       "      <td>-17.718352</td>\n",
       "      <td>8.090490</td>\n",
       "      <td>10.817552</td>\n",
       "      <td>188.222653</td>\n",
       "    </tr>\n",
       "    <tr>\n",
       "      <th>4</th>\n",
       "      <td>10614.0</td>\n",
       "      <td>-2.754149</td>\n",
       "      <td>8.262446</td>\n",
       "      <td>11.102861</td>\n",
       "      <td>194.112393</td>\n",
       "    </tr>\n",
       "    <tr>\n",
       "      <th>5</th>\n",
       "      <td>35322.0</td>\n",
       "      <td>-2.714750</td>\n",
       "      <td>7.929207</td>\n",
       "      <td>10.613925</td>\n",
       "      <td>128.045485</td>\n",
       "    </tr>\n",
       "    <tr>\n",
       "      <th>6</th>\n",
       "      <td>10590.0</td>\n",
       "      <td>-4.524583</td>\n",
       "      <td>8.262446</td>\n",
       "      <td>11.356044</td>\n",
       "      <td>113.709608</td>\n",
       "    </tr>\n",
       "  </tbody>\n",
       "</table>\n",
       "</div>"
      ],
      "text/plain": [
       "                inflation_adjusted_fare_amount                       \\\n",
       "                                           len       amin    median   \n",
       "passenger_count                                                       \n",
       "0                                       1791.0   2.262292  6.948303   \n",
       "1                                     346009.0 -43.953260  7.803421   \n",
       "2                                      73908.0  -2.262292  8.144249   \n",
       "3                                      21761.0 -17.718352  8.090490   \n",
       "4                                      10614.0  -2.754149  8.262446   \n",
       "5                                      35322.0  -2.714750  7.929207   \n",
       "6                                      10590.0  -4.524583  8.262446   \n",
       "\n",
       "                                        \n",
       "                      mean        amax  \n",
       "passenger_count                         \n",
       "0                 8.474857   80.763807  \n",
       "1                10.566293  475.911198  \n",
       "2                11.166980  238.518361  \n",
       "3                10.817552  188.222653  \n",
       "4                11.102861  194.112393  \n",
       "5                10.613925  128.045485  \n",
       "6                11.356044  113.709608  "
      ]
     },
     "execution_count": 15,
     "metadata": {},
     "output_type": "execute_result"
    }
   ],
   "source": [
    "Data_test_3.loc[:,['passenger_count','inflation_adjusted_fare_amount']].groupby('passenger_count').agg([len,np.min,np.median,np.mean,np.max])"
   ]
  },
  {
   "cell_type": "markdown",
   "id": "8396bb5e",
   "metadata": {},
   "source": [
    "### Density Plot of Fare amount with Distance \n",
    "\n",
    "#### As we observe from the graph below we see that there is some sort of relation between the fare amount and distance ( As the distance increases the fare amount also increases)"
   ]
  },
  {
   "cell_type": "code",
   "execution_count": 262,
   "id": "2de4f093",
   "metadata": {
    "scrolled": true
   },
   "outputs": [
    {
     "data": {
      "image/png": "[encoded data removed]",
      "text/plain": [
       "<Figure size 432x432 with 3 Axes>"
      ]
     },
     "metadata": {
      "needs_background": "light"
     },
     "output_type": "display_data"
    }
   ],
   "source": [
    "fig4_1 = sns.jointplot(np.log(Data_test_3['distance']),np.log(Data_test_3['inflation_adjusted_fare_amount']),kind = \"hist\",ratio = 3,ylim = [0.5,6],joint_kws=dict(bins = 30))\n",
    "plt.plot()\n",
    "plt.show()"
   ]
  },
  {
   "cell_type": "markdown",
   "id": "b4317ce3",
   "metadata": {},
   "source": [
    "## Bar plots for Trip count by Year - Month"
   ]
  },
  {
   "cell_type": "code",
   "execution_count": 123,
   "id": "6997b2c9",
   "metadata": {},
   "outputs": [
    {
     "data": {
      "image/png": "[encoded data removed]",
      "text/plain": [
       "<Figure size 1152x504 with 1 Axes>"
      ]
     },
     "metadata": {
      "needs_background": "light"
     },
     "output_type": "display_data"
    }
   ],
   "source": [
    "\n",
    "Data_4 = pd.DataFrame(Data_test_3['key'].groupby(by = [Data_test_3['pickup_datetime_2'].dt.year,Data_test_3['pickup_datetime_2'].dt.month]).agg(len))\n",
    "Data_4_year = pd.Series(Data_4.droplevel(level = 1).index).apply(str)\n",
    "Month = {1:'Jan',2:'Feb',3:'Mar',4:'Apr',5:'May',6:'Jun',7:'Jul',8:'Aug',9:'Sep',10:'Oct',11:'Nov',12:'Dec'}\n",
    "Year_month= pd.Series([str(i)+\"-\"+ Month[j] for i in range(2008,2016) for j in Month.keys()])\n",
    "Year_Month_2 = Year_month.drop(index = [0,1,2,3,4,5,6,7,8,9,10,95,94,93,92,91,90])\n",
    "Year_Month_2.index = range(0,79)\n",
    "Data_4.index = Year_Month_2\n",
    "Data_4_year.index = Year_Month_2\n",
    "Data_4['Year'] =  Data_4_year\n",
    "fig_barplot_year_month = plt.figure(figsize = [16,7])\n",
    "ax_1 = fig_barplot_year_month.subplots()\n",
    "ax_1 = sns.barplot(x = Data_4.index, y = Data_4['key'],hue = Data_4['Year'],dodge = False)\n",
    "ax_1.set_xticklabels(ax_1.get_xticklabels(), rotation = 90)\n",
    "ax_1.legend(loc = 'upper left',bbox_to_anchor = (1,1))\n",
    "plt.show()\n"
   ]
  },
  {
   "cell_type": "markdown",
   "id": "1cbb04f6",
   "metadata": {},
   "source": [
    "We see above that the trip count follows a cyclical pattern wherein the trip count increases around April, reduces in August and then subsequently increases during the winter season. Another macro pattern we observe is that the trip count has been decreasing steadily as the months pass.\n",
    "\n",
    "## Bar plot of Trip counts by Month, Weekday, Weekday-Year & Quarter  "
   ]
  },
  {
   "cell_type": "code",
   "execution_count": 235,
   "id": "46098757",
   "metadata": {
    "scrolled": true
   },
   "outputs": [
    {
     "data": {
      "image/png": "[encoded data removed]",
      "text/plain": [
       "<Figure size 1440x864 with 4 Axes>"
      ]
     },
     "metadata": {
      "needs_background": "light"
     },
     "output_type": "display_data"
    }
   ],
   "source": [
    "Data_test_3['Month_1'] = Data_test_3['pickup_datetime_2'].dt.month\n",
    "Weekday_day = {0:\"Mon\",1:\"Tue\",2:\"Wed\",3:\"Thurs\",4:\"Fri\",5:\"Sat\",6:\"Sun\"}\n",
    "Data_test_3['Weekday_1'] = Data_test_3['pickup_datetime_2'].dt.weekday.apply(lambda x: str(x)+\"-\"+str(Weekday_day[x]))\n",
    "Data_test_3['Quarter_Year_1'] = Data_test_3['pickup_datetime_2'].dt.quarter.map(str) + \"-\" + Data_test_3['Year'].map(str)\n",
    "Data_test_3['Weekday_Year_1'] = Data_test_3['Weekday'].map(str) + \"-\" + Data_test_3['Year'].map(str)\n",
    "\n",
    "columns = ['Month_1','Weekday_1','Quarter_Year_1','Year']\n",
    "barplot_fig_1, ((Month_1,Weekday_1),(Quarter_Year_1,Year)) = plt.subplots(figsize = (20,12),nrows = 2,ncols = 2)\n",
    "for i in columns:\n",
    "    sns.barplot(ax = vars()[i],x = Data_test_3[i].groupby(by = Data_test_3[i]).agg(len).index ,y= Data_test_3[i].groupby(by = Data_test_3[i]).agg(len),dodge = False)\n",
    "    vars()[i].set_ylabel(\"Trip count\")\n",
    "Quarter_Year_1.set_xticklabels(Quarter_Year_1.get_xticklabels(),rotation = 90)\n",
    "Weekday_1.set_title(\"Trip count by Weekday\")\n",
    "Month_1.set_title(\"Trip count by Month\")\n",
    "Quarter_Year_1.set_title(\"Trip count by Quarter-Year\")\n",
    "Year.set_title(\"Trip count by Year\")\n",
    "barplot_fig_1.suptitle(\"Trip count bar plots\", fontsize = 30)\n",
    "\n",
    "plt.plot()\n",
    "plt.show()\n"
   ]
  },
  {
   "cell_type": "code",
   "execution_count": 306,
   "id": "c0673935",
   "metadata": {},
   "outputs": [
    {
     "data": {
      "text/plain": [
       "<AxesSubplot:xlabel='Holiday', ylabel='inflation_adjusted_fare_amount'>"
      ]
     },
     "execution_count": 306,
     "metadata": {},
     "output_type": "execute_result"
    },
    {
     "data": {
      "image/png": "[encoded data removed]",
      "text/plain": [
       "<Figure size 1440x864 with 4 Axes>"
      ]
     },
     "metadata": {
      "needs_background": "light"
     },
     "output_type": "display_data"
    }
   ],
   "source": [
    "cal = calendar()\n",
    "holidays = cal.holidays(start=Data_test_3['pickup_datetime_2'].min(), end=Data_test_3['pickup_datetime_2'].max())\n",
    "Data_test_3['Holiday'] = Data_test_3['pickup_datetime_2'].isin(holidays)\n",
    "\n",
    "\n",
    "barplot_fig_2, ((Weekday_2,Month_2),(Year_2,Holiday_2)) = plt.subplots(figsize = (20,12),nrows = 2,ncols = 2)\n",
    "sns.boxplot(ax = Weekday_2, x = 'Weekday_1',y= 'inflation_adjusted_fare_amount',data = Data_test_3,showfliers = False,)\n",
    "sns.boxplot(ax = Month_2, x = 'Month_1',y= 'inflation_adjusted_fare_amount',data = Data_test_3,showfliers = False)\n",
    "sns.boxplot(ax = Year_2, x = 'Year',y= 'inflation_adjusted_fare_amount',data = Data_test_3,showfliers = False)\n",
    "sns.boxplot(ax = Holiday_2, x = 'Holiday',y= 'inflation_adjusted_fare_amount',data = Data_test_3,showfliers = False)"
   ]
  }
 ],
 "metadata": {
  "kernelspec": {
   "display_name": "Python 3 (ipykernel)",
   "language": "python",
   "name": "python3"
  },
  "language_info": {
   "codemirror_mode": {
    "name": "ipython",
    "version": 3
   },
   "file_extension": ".py",
   "mimetype": "text/x-python",
   "name": "python",
   "nbconvert_exporter": "python",
   "pygments_lexer": "ipython3",
   "version": "3.7.0"
  }
 },
 "nbformat": 4,
 "nbformat_minor": 5
}
